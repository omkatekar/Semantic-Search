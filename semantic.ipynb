{
 "cells": [
  {
   "cell_type": "code",
   "execution_count": 1,
   "metadata": {},
   "outputs": [],
   "source": [
    "%load_ext dotenv\n",
    "%dotenv"
   ]
  },
  {
   "cell_type": "code",
   "execution_count": 2,
   "metadata": {},
   "outputs": [
    {
     "name": "stderr",
     "output_type": "stream",
     "text": [
      "c:\\Users\\omkat\\AppData\\Local\\Programs\\Python\\Python312\\Lib\\site-packages\\pinecone\\data\\index.py:1: TqdmWarning: IProgress not found. Please update jupyter and ipywidgets. See https://ipywidgets.readthedocs.io/en/stable/user_install.html\n",
      "  from tqdm.autonotebook import tqdm\n"
     ]
    }
   ],
   "source": [
    "import pandas as pd\n",
    "import os\n",
    "from pinecone import Pinecone,ServerlessSpec\n",
    "from dotenv import load_dotenv,find_dotenv\n",
    "import pinecone\n",
    "from sentence_transformers import SentenceTransformer\n"
   ]
  },
  {
   "cell_type": "code",
   "execution_count": 3,
   "metadata": {},
   "outputs": [],
   "source": [
    "files=pd.read_csv(\"course_section_descriptions.csv\",encoding=\"ANSI\")"
   ]
  },
  {
   "cell_type": "code",
   "execution_count": 4,
   "metadata": {},
   "outputs": [
    {
     "data": {
      "text/html": [
       "<div>\n",
       "<style scoped>\n",
       "    .dataframe tbody tr th:only-of-type {\n",
       "        vertical-align: middle;\n",
       "    }\n",
       "\n",
       "    .dataframe tbody tr th {\n",
       "        vertical-align: top;\n",
       "    }\n",
       "\n",
       "    .dataframe thead th {\n",
       "        text-align: right;\n",
       "    }\n",
       "</style>\n",
       "<table border=\"1\" class=\"dataframe\">\n",
       "  <thead>\n",
       "    <tr style=\"text-align: right;\">\n",
       "      <th></th>\n",
       "      <th>course_id</th>\n",
       "      <th>course_name</th>\n",
       "      <th>course_slug</th>\n",
       "      <th>course_description</th>\n",
       "      <th>course_description_short</th>\n",
       "      <th>course_technology</th>\n",
       "      <th>course_topic</th>\n",
       "      <th>course_instructor_quote</th>\n",
       "      <th>section_id</th>\n",
       "      <th>section_name</th>\n",
       "      <th>section_description</th>\n",
       "    </tr>\n",
       "  </thead>\n",
       "  <tbody>\n",
       "    <tr>\n",
       "      <th>0</th>\n",
       "      <td>2</td>\n",
       "      <td>Introduction to Tableau</td>\n",
       "      <td>tableau</td>\n",
       "      <td>Tableau is now one of the most popular busines...</td>\n",
       "      <td>Teaching you how to tell compelling stories wi...</td>\n",
       "      <td>tableau</td>\n",
       "      <td>data visualization</td>\n",
       "      <td>Data scientists don’t just need to deal with d...</td>\n",
       "      <td>9</td>\n",
       "      <td>Introduction to Tableau</td>\n",
       "      <td>While Tableau is an indispensable tool in the ...</td>\n",
       "    </tr>\n",
       "    <tr>\n",
       "      <th>1</th>\n",
       "      <td>2</td>\n",
       "      <td>Introduction to Tableau</td>\n",
       "      <td>tableau</td>\n",
       "      <td>Tableau is now one of the most popular busines...</td>\n",
       "      <td>Teaching you how to tell compelling stories wi...</td>\n",
       "      <td>tableau</td>\n",
       "      <td>data visualization</td>\n",
       "      <td>Data scientists don’t just need to deal with d...</td>\n",
       "      <td>10</td>\n",
       "      <td>Tableau Functionalities</td>\n",
       "      <td>In this section, you will create your first Ta...</td>\n",
       "    </tr>\n",
       "    <tr>\n",
       "      <th>2</th>\n",
       "      <td>2</td>\n",
       "      <td>Introduction to Tableau</td>\n",
       "      <td>tableau</td>\n",
       "      <td>Tableau is now one of the most popular busines...</td>\n",
       "      <td>Teaching you how to tell compelling stories wi...</td>\n",
       "      <td>tableau</td>\n",
       "      <td>data visualization</td>\n",
       "      <td>Data scientists don’t just need to deal with d...</td>\n",
       "      <td>11</td>\n",
       "      <td>The Tableau Exercise</td>\n",
       "      <td>This section is a practical example that will ...</td>\n",
       "    </tr>\n",
       "    <tr>\n",
       "      <th>3</th>\n",
       "      <td>3</td>\n",
       "      <td>The Complete Data Visualization Course with Py...</td>\n",
       "      <td>data-visualization</td>\n",
       "      <td>The Data Visualization course is designed for ...</td>\n",
       "      <td>Teaching you how to master the art of creating...</td>\n",
       "      <td>python</td>\n",
       "      <td>data visualization</td>\n",
       "      <td>Data visualization is the face of data. Many p...</td>\n",
       "      <td>12</td>\n",
       "      <td>Introduction</td>\n",
       "      <td>In this section, you will learn about the impo...</td>\n",
       "    </tr>\n",
       "    <tr>\n",
       "      <th>4</th>\n",
       "      <td>3</td>\n",
       "      <td>The Complete Data Visualization Course with Py...</td>\n",
       "      <td>data-visualization</td>\n",
       "      <td>The Data Visualization course is designed for ...</td>\n",
       "      <td>Teaching you how to master the art of creating...</td>\n",
       "      <td>python</td>\n",
       "      <td>data visualization</td>\n",
       "      <td>Data visualization is the face of data. Many p...</td>\n",
       "      <td>13</td>\n",
       "      <td>Setting Up the Environments</td>\n",
       "      <td>Here, we set up different environments for the...</td>\n",
       "    </tr>\n",
       "    <tr>\n",
       "      <th>...</th>\n",
       "      <td>...</td>\n",
       "      <td>...</td>\n",
       "      <td>...</td>\n",
       "      <td>...</td>\n",
       "      <td>...</td>\n",
       "      <td>...</td>\n",
       "      <td>...</td>\n",
       "      <td>...</td>\n",
       "      <td>...</td>\n",
       "      <td>...</td>\n",
       "      <td>...</td>\n",
       "    </tr>\n",
       "    <tr>\n",
       "      <th>675</th>\n",
       "      <td>117</td>\n",
       "      <td>Growth Analysis with SQL, Python, and Tableau</td>\n",
       "      <td>growth-analysis-with-sql-python-and-tableau</td>\n",
       "      <td>Every company aims to maximize its market pres...</td>\n",
       "      <td>Master the creation of a growth data dashboard...</td>\n",
       "      <td>tableau</td>\n",
       "      <td>data visualization</td>\n",
       "      <td>NaN</td>\n",
       "      <td>819</td>\n",
       "      <td>Case Study Overview</td>\n",
       "      <td>This part introduces the terminology and highl...</td>\n",
       "    </tr>\n",
       "    <tr>\n",
       "      <th>676</th>\n",
       "      <td>117</td>\n",
       "      <td>Growth Analysis with SQL, Python, and Tableau</td>\n",
       "      <td>growth-analysis-with-sql-python-and-tableau</td>\n",
       "      <td>Every company aims to maximize its market pres...</td>\n",
       "      <td>Master the creation of a growth data dashboard...</td>\n",
       "      <td>tableau</td>\n",
       "      <td>data visualization</td>\n",
       "      <td>NaN</td>\n",
       "      <td>820</td>\n",
       "      <td>Retrieving Relevant Data from the Database</td>\n",
       "      <td>Here, we explore the 365 database utilized in ...</td>\n",
       "    </tr>\n",
       "    <tr>\n",
       "      <th>677</th>\n",
       "      <td>117</td>\n",
       "      <td>Growth Analysis with SQL, Python, and Tableau</td>\n",
       "      <td>growth-analysis-with-sql-python-and-tableau</td>\n",
       "      <td>Every company aims to maximize its market pres...</td>\n",
       "      <td>Master the creation of a growth data dashboard...</td>\n",
       "      <td>tableau</td>\n",
       "      <td>data visualization</td>\n",
       "      <td>NaN</td>\n",
       "      <td>821</td>\n",
       "      <td>Crafting the Graphs</td>\n",
       "      <td>Once all data sources are ready, we'll start c...</td>\n",
       "    </tr>\n",
       "    <tr>\n",
       "      <th>678</th>\n",
       "      <td>117</td>\n",
       "      <td>Growth Analysis with SQL, Python, and Tableau</td>\n",
       "      <td>growth-analysis-with-sql-python-and-tableau</td>\n",
       "      <td>Every company aims to maximize its market pres...</td>\n",
       "      <td>Master the creation of a growth data dashboard...</td>\n",
       "      <td>tableau</td>\n",
       "      <td>data visualization</td>\n",
       "      <td>NaN</td>\n",
       "      <td>822</td>\n",
       "      <td>Assembling the Dashboard</td>\n",
       "      <td>We'll organize all completed graphs across var...</td>\n",
       "    </tr>\n",
       "    <tr>\n",
       "      <th>679</th>\n",
       "      <td>117</td>\n",
       "      <td>Growth Analysis with SQL, Python, and Tableau</td>\n",
       "      <td>growth-analysis-with-sql-python-and-tableau</td>\n",
       "      <td>Every company aims to maximize its market pres...</td>\n",
       "      <td>Master the creation of a growth data dashboard...</td>\n",
       "      <td>tableau</td>\n",
       "      <td>data visualization</td>\n",
       "      <td>NaN</td>\n",
       "      <td>823</td>\n",
       "      <td>Discussions and Insights</td>\n",
       "      <td>The Growth Analysis with SQL, Python, and Tabl...</td>\n",
       "    </tr>\n",
       "  </tbody>\n",
       "</table>\n",
       "<p>680 rows × 11 columns</p>\n",
       "</div>"
      ],
      "text/plain": [
       "     course_id                                        course_name  \\\n",
       "0            2                            Introduction to Tableau   \n",
       "1            2                            Introduction to Tableau   \n",
       "2            2                            Introduction to Tableau   \n",
       "3            3  The Complete Data Visualization Course with Py...   \n",
       "4            3  The Complete Data Visualization Course with Py...   \n",
       "..         ...                                                ...   \n",
       "675        117    Growth Analysis with SQL, Python, and Tableau     \n",
       "676        117    Growth Analysis with SQL, Python, and Tableau     \n",
       "677        117    Growth Analysis with SQL, Python, and Tableau     \n",
       "678        117    Growth Analysis with SQL, Python, and Tableau     \n",
       "679        117    Growth Analysis with SQL, Python, and Tableau     \n",
       "\n",
       "                                     course_slug  \\\n",
       "0                                        tableau   \n",
       "1                                        tableau   \n",
       "2                                        tableau   \n",
       "3                             data-visualization   \n",
       "4                             data-visualization   \n",
       "..                                           ...   \n",
       "675  growth-analysis-with-sql-python-and-tableau   \n",
       "676  growth-analysis-with-sql-python-and-tableau   \n",
       "677  growth-analysis-with-sql-python-and-tableau   \n",
       "678  growth-analysis-with-sql-python-and-tableau   \n",
       "679  growth-analysis-with-sql-python-and-tableau   \n",
       "\n",
       "                                    course_description  \\\n",
       "0    Tableau is now one of the most popular busines...   \n",
       "1    Tableau is now one of the most popular busines...   \n",
       "2    Tableau is now one of the most popular busines...   \n",
       "3    The Data Visualization course is designed for ...   \n",
       "4    The Data Visualization course is designed for ...   \n",
       "..                                                 ...   \n",
       "675  Every company aims to maximize its market pres...   \n",
       "676  Every company aims to maximize its market pres...   \n",
       "677  Every company aims to maximize its market pres...   \n",
       "678  Every company aims to maximize its market pres...   \n",
       "679  Every company aims to maximize its market pres...   \n",
       "\n",
       "                              course_description_short course_technology  \\\n",
       "0    Teaching you how to tell compelling stories wi...           tableau   \n",
       "1    Teaching you how to tell compelling stories wi...           tableau   \n",
       "2    Teaching you how to tell compelling stories wi...           tableau   \n",
       "3    Teaching you how to master the art of creating...            python   \n",
       "4    Teaching you how to master the art of creating...            python   \n",
       "..                                                 ...               ...   \n",
       "675  Master the creation of a growth data dashboard...           tableau   \n",
       "676  Master the creation of a growth data dashboard...           tableau   \n",
       "677  Master the creation of a growth data dashboard...           tableau   \n",
       "678  Master the creation of a growth data dashboard...           tableau   \n",
       "679  Master the creation of a growth data dashboard...           tableau   \n",
       "\n",
       "           course_topic                            course_instructor_quote  \\\n",
       "0    data visualization  Data scientists don’t just need to deal with d...   \n",
       "1    data visualization  Data scientists don’t just need to deal with d...   \n",
       "2    data visualization  Data scientists don’t just need to deal with d...   \n",
       "3    data visualization  Data visualization is the face of data. Many p...   \n",
       "4    data visualization  Data visualization is the face of data. Many p...   \n",
       "..                  ...                                                ...   \n",
       "675  data visualization                                                NaN   \n",
       "676  data visualization                                                NaN   \n",
       "677  data visualization                                                NaN   \n",
       "678  data visualization                                                NaN   \n",
       "679  data visualization                                                NaN   \n",
       "\n",
       "     section_id                                section_name  \\\n",
       "0             9                     Introduction to Tableau   \n",
       "1            10                     Tableau Functionalities   \n",
       "2            11                        The Tableau Exercise   \n",
       "3            12                                Introduction   \n",
       "4            13                 Setting Up the Environments   \n",
       "..          ...                                         ...   \n",
       "675         819                         Case Study Overview   \n",
       "676         820  Retrieving Relevant Data from the Database   \n",
       "677         821                         Crafting the Graphs   \n",
       "678         822                    Assembling the Dashboard   \n",
       "679         823                    Discussions and Insights   \n",
       "\n",
       "                                   section_description  \n",
       "0    While Tableau is an indispensable tool in the ...  \n",
       "1    In this section, you will create your first Ta...  \n",
       "2    This section is a practical example that will ...  \n",
       "3    In this section, you will learn about the impo...  \n",
       "4    Here, we set up different environments for the...  \n",
       "..                                                 ...  \n",
       "675  This part introduces the terminology and highl...  \n",
       "676  Here, we explore the 365 database utilized in ...  \n",
       "677  Once all data sources are ready, we'll start c...  \n",
       "678  We'll organize all completed graphs across var...  \n",
       "679  The Growth Analysis with SQL, Python, and Tabl...  \n",
       "\n",
       "[680 rows x 11 columns]"
      ]
     },
     "execution_count": 4,
     "metadata": {},
     "output_type": "execute_result"
    }
   ],
   "source": [
    "files"
   ]
  },
  {
   "cell_type": "code",
   "execution_count": 5,
   "metadata": {},
   "outputs": [],
   "source": [
    "files[\"unique_id\"]=files[\"course_id\"].astype(str) + '-' + files[\"section_id\"].astype(str)"
   ]
  },
  {
   "cell_type": "code",
   "execution_count": 6,
   "metadata": {},
   "outputs": [],
   "source": [
    "files[\"metadata\"]=files.apply(lambda row:{\n",
    "    \"course_name\":row[\"course_name\"],\n",
    "    \"section_name\":row[\"section_name\"],\n",
    "    \"section_description\":row[\"section_description\"],\n",
    "},axis=1)"
   ]
  },
  {
   "cell_type": "code",
   "execution_count": 7,
   "metadata": {},
   "outputs": [],
   "source": [
    "def create_embedding(row):\n",
    "    combined_text=f'''{row[\"course_name\"]}{row[\"course_technology\"]}\n",
    "                      {row[\"course_description\"]}{row[\"section_name\"]}{row[\"section_description\"]}'''\n",
    "    \n",
    "    return model.encode(combined_text,show_progress_bar=False)"
   ]
  },
  {
   "cell_type": "code",
   "execution_count": 8,
   "metadata": {},
   "outputs": [],
   "source": [
    "model=SentenceTransformer(\"all-MiniLM-L6-v2\")"
   ]
  },
  {
   "cell_type": "code",
   "execution_count": 9,
   "metadata": {},
   "outputs": [],
   "source": [
    "files[\"embedding\"]=files.apply(create_embedding,axis=1)"
   ]
  },
  {
   "attachments": {},
   "cell_type": "markdown",
   "metadata": {},
   "source": [
    "Upserting data to Pinecone"
   ]
  },
  {
   "cell_type": "code",
   "execution_count": 10,
   "metadata": {},
   "outputs": [
    {
     "data": {
      "text/plain": [
       "True"
      ]
     },
     "execution_count": 10,
     "metadata": {},
     "output_type": "execute_result"
    }
   ],
   "source": [
    "load_dotenv(find_dotenv(),override=True)"
   ]
  },
  {
   "cell_type": "code",
   "execution_count": 11,
   "metadata": {},
   "outputs": [],
   "source": [
    "pc=Pinecone(api_key=os.environ.get(\"PINECONE_API_KEY\"),environment=os.environ.get(\"PINECONE_ENV\"))"
   ]
  },
  {
   "cell_type": "code",
   "execution_count": 12,
   "metadata": {},
   "outputs": [],
   "source": [
    "index_name=\"my-index-3\"\n",
    "dimension=384\n",
    "metric=\"cosine\""
   ]
  },
  {
   "cell_type": "code",
   "execution_count": 13,
   "metadata": {},
   "outputs": [],
   "source": [
    "# if index_name in [index.name for index in pc.list_indexes()]:\n",
    "#     pc.delete_index(index_name)\n",
    "#     print(f\"{index_name} successfully deleted.\")\n",
    "# else:\n",
    "#     print(f\"{index_name} not in index list.\")"
   ]
  },
  {
   "cell_type": "code",
   "execution_count": 14,
   "metadata": {},
   "outputs": [
    {
     "ename": "PineconeApiException",
     "evalue": "(409)\nReason: Conflict\nHTTP response headers: HTTPHeaderDict({'content-type': 'text/plain; charset=utf-8', 'access-control-allow-origin': '*', 'vary': 'origin,access-control-request-method,access-control-request-headers', 'access-control-expose-headers': '*', 'x-pinecone-api-version': '2024-07', 'X-Cloud-Trace-Context': '467b090c1ed6b8e3416ce9c4b4e4d6dc', 'Date': 'Wed, 25 Dec 2024 12:55:39 GMT', 'Server': 'Google Frontend', 'Content-Length': '85', 'Via': '1.1 google', 'Alt-Svc': 'h3=\":443\"; ma=2592000,h3-29=\":443\"; ma=2592000'})\nHTTP response body: {\"error\":{\"code\":\"ALREADY_EXISTS\",\"message\":\"Resource  already exists\"},\"status\":409}\n",
     "output_type": "error",
     "traceback": [
      "\u001b[1;31m---------------------------------------------------------------------------\u001b[0m",
      "\u001b[1;31mPineconeApiException\u001b[0m                      Traceback (most recent call last)",
      "Cell \u001b[1;32mIn[14], line 1\u001b[0m\n\u001b[1;32m----> 1\u001b[0m pc\u001b[39m.\u001b[39;49mcreate_index(\n\u001b[0;32m      2\u001b[0m     name\u001b[39m=\u001b[39;49mindex_name,\n\u001b[0;32m      3\u001b[0m     dimension\u001b[39m=\u001b[39;49mdimension,\n\u001b[0;32m      4\u001b[0m     metric\u001b[39m=\u001b[39;49mmetric,\n\u001b[0;32m      5\u001b[0m     spec\u001b[39m=\u001b[39;49mServerlessSpec(\n\u001b[0;32m      6\u001b[0m         cloud\u001b[39m=\u001b[39;49m\u001b[39m\"\u001b[39;49m\u001b[39maws\u001b[39;49m\u001b[39m\"\u001b[39;49m,\n\u001b[0;32m      7\u001b[0m         region\u001b[39m=\u001b[39;49m\u001b[39m\"\u001b[39;49m\u001b[39mus-east-1\u001b[39;49m\u001b[39m\"\u001b[39;49m\n\u001b[0;32m      8\u001b[0m     )\n\u001b[0;32m      9\u001b[0m )\n",
      "File \u001b[1;32mc:\\Users\\omkat\\AppData\\Local\\Programs\\Python\\Python312\\Lib\\site-packages\\pinecone\\control\\pinecone.py:384\u001b[0m, in \u001b[0;36mPinecone.create_index\u001b[1;34m(self, name, dimension, spec, metric, timeout, deletion_protection)\u001b[0m\n\u001b[0;32m    381\u001b[0m \u001b[39melse\u001b[39;00m:\n\u001b[0;32m    382\u001b[0m     \u001b[39mraise\u001b[39;00m \u001b[39mTypeError\u001b[39;00m(\u001b[39m\"\u001b[39m\u001b[39mspec must be of type dict, ServerlessSpec, or PodSpec\u001b[39m\u001b[39m\"\u001b[39m)\n\u001b[1;32m--> 384\u001b[0m api_instance\u001b[39m.\u001b[39;49mcreate_index(\n\u001b[0;32m    385\u001b[0m     create_index_request\u001b[39m=\u001b[39;49mCreateIndexRequest(\n\u001b[0;32m    386\u001b[0m         name\u001b[39m=\u001b[39;49mname,\n\u001b[0;32m    387\u001b[0m         dimension\u001b[39m=\u001b[39;49mdimension,\n\u001b[0;32m    388\u001b[0m         metric\u001b[39m=\u001b[39;49mmetric,\n\u001b[0;32m    389\u001b[0m         spec\u001b[39m=\u001b[39;49mindex_spec,\n\u001b[0;32m    390\u001b[0m         deletion_protection\u001b[39m=\u001b[39;49mdp,\n\u001b[0;32m    391\u001b[0m     ),\n\u001b[0;32m    392\u001b[0m )\n\u001b[0;32m    394\u001b[0m \u001b[39mdef\u001b[39;00m \u001b[39mis_ready\u001b[39m():\n\u001b[0;32m    395\u001b[0m     status \u001b[39m=\u001b[39m \u001b[39mself\u001b[39m\u001b[39m.\u001b[39m_get_status(name)\n",
      "File \u001b[1;32mc:\\Users\\omkat\\AppData\\Local\\Programs\\Python\\Python312\\Lib\\site-packages\\pinecone\\core\\openapi\\shared\\api_client.py:761\u001b[0m, in \u001b[0;36mEndpoint.__call__\u001b[1;34m(self, *args, **kwargs)\u001b[0m\n\u001b[0;32m    750\u001b[0m \u001b[39mdef\u001b[39;00m \u001b[39m__call__\u001b[39m(\u001b[39mself\u001b[39m, \u001b[39m*\u001b[39margs, \u001b[39m*\u001b[39m\u001b[39m*\u001b[39mkwargs):\n\u001b[0;32m    751\u001b[0m \u001b[39m    \u001b[39m\u001b[39m\"\"\"This method is invoked when endpoints are called\u001b[39;00m\n\u001b[0;32m    752\u001b[0m \u001b[39m    Example:\u001b[39;00m\n\u001b[0;32m    753\u001b[0m \n\u001b[1;32m   (...)\u001b[0m\n\u001b[0;32m    759\u001b[0m \n\u001b[0;32m    760\u001b[0m \u001b[39m    \"\"\"\u001b[39;00m\n\u001b[1;32m--> 761\u001b[0m     \u001b[39mreturn\u001b[39;00m \u001b[39mself\u001b[39;49m\u001b[39m.\u001b[39;49mcallable(\u001b[39mself\u001b[39;49m, \u001b[39m*\u001b[39;49margs, \u001b[39m*\u001b[39;49m\u001b[39m*\u001b[39;49mkwargs)\n",
      "File \u001b[1;32mc:\\Users\\omkat\\AppData\\Local\\Programs\\Python\\Python312\\Lib\\site-packages\\pinecone\\core\\openapi\\control\\api\\manage_indexes_api.py:273\u001b[0m, in \u001b[0;36mManageIndexesApi.__init__.<locals>.__create_index\u001b[1;34m(self, create_index_request, **kwargs)\u001b[0m\n\u001b[0;32m    271\u001b[0m kwargs[\u001b[39m\"\u001b[39m\u001b[39m_host_index\u001b[39m\u001b[39m\"\u001b[39m] \u001b[39m=\u001b[39m kwargs\u001b[39m.\u001b[39mget(\u001b[39m\"\u001b[39m\u001b[39m_host_index\u001b[39m\u001b[39m\"\u001b[39m)\n\u001b[0;32m    272\u001b[0m kwargs[\u001b[39m\"\u001b[39m\u001b[39mcreate_index_request\u001b[39m\u001b[39m\"\u001b[39m] \u001b[39m=\u001b[39m create_index_request\n\u001b[1;32m--> 273\u001b[0m \u001b[39mreturn\u001b[39;00m \u001b[39mself\u001b[39;49m\u001b[39m.\u001b[39;49mcall_with_http_info(\u001b[39m*\u001b[39;49m\u001b[39m*\u001b[39;49mkwargs)\n",
      "File \u001b[1;32mc:\\Users\\omkat\\AppData\\Local\\Programs\\Python\\Python312\\Lib\\site-packages\\pinecone\\core\\openapi\\shared\\api_client.py:819\u001b[0m, in \u001b[0;36mEndpoint.call_with_http_info\u001b[1;34m(self, **kwargs)\u001b[0m\n\u001b[0;32m    816\u001b[0m     header_list \u001b[39m=\u001b[39m \u001b[39mself\u001b[39m\u001b[39m.\u001b[39mapi_client\u001b[39m.\u001b[39mselect_header_content_type(content_type_headers_list)\n\u001b[0;32m    817\u001b[0m     params[\u001b[39m\"\u001b[39m\u001b[39mheader\u001b[39m\u001b[39m\"\u001b[39m][\u001b[39m\"\u001b[39m\u001b[39mContent-Type\u001b[39m\u001b[39m\"\u001b[39m] \u001b[39m=\u001b[39m header_list\n\u001b[1;32m--> 819\u001b[0m \u001b[39mreturn\u001b[39;00m \u001b[39mself\u001b[39;49m\u001b[39m.\u001b[39;49mapi_client\u001b[39m.\u001b[39;49mcall_api(\n\u001b[0;32m    820\u001b[0m     \u001b[39mself\u001b[39;49m\u001b[39m.\u001b[39;49msettings[\u001b[39m\"\u001b[39;49m\u001b[39mendpoint_path\u001b[39;49m\u001b[39m\"\u001b[39;49m],\n\u001b[0;32m    821\u001b[0m     \u001b[39mself\u001b[39;49m\u001b[39m.\u001b[39;49msettings[\u001b[39m\"\u001b[39;49m\u001b[39mhttp_method\u001b[39;49m\u001b[39m\"\u001b[39;49m],\n\u001b[0;32m    822\u001b[0m     params[\u001b[39m\"\u001b[39;49m\u001b[39mpath\u001b[39;49m\u001b[39m\"\u001b[39;49m],\n\u001b[0;32m    823\u001b[0m     params[\u001b[39m\"\u001b[39;49m\u001b[39mquery\u001b[39;49m\u001b[39m\"\u001b[39;49m],\n\u001b[0;32m    824\u001b[0m     params[\u001b[39m\"\u001b[39;49m\u001b[39mheader\u001b[39;49m\u001b[39m\"\u001b[39;49m],\n\u001b[0;32m    825\u001b[0m     body\u001b[39m=\u001b[39;49mparams[\u001b[39m\"\u001b[39;49m\u001b[39mbody\u001b[39;49m\u001b[39m\"\u001b[39;49m],\n\u001b[0;32m    826\u001b[0m     post_params\u001b[39m=\u001b[39;49mparams[\u001b[39m\"\u001b[39;49m\u001b[39mform\u001b[39;49m\u001b[39m\"\u001b[39;49m],\n\u001b[0;32m    827\u001b[0m     files\u001b[39m=\u001b[39;49mparams[\u001b[39m\"\u001b[39;49m\u001b[39mfile\u001b[39;49m\u001b[39m\"\u001b[39;49m],\n\u001b[0;32m    828\u001b[0m     response_type\u001b[39m=\u001b[39;49m\u001b[39mself\u001b[39;49m\u001b[39m.\u001b[39;49msettings[\u001b[39m\"\u001b[39;49m\u001b[39mresponse_type\u001b[39;49m\u001b[39m\"\u001b[39;49m],\n\u001b[0;32m    829\u001b[0m     auth_settings\u001b[39m=\u001b[39;49m\u001b[39mself\u001b[39;49m\u001b[39m.\u001b[39;49msettings[\u001b[39m\"\u001b[39;49m\u001b[39mauth\u001b[39;49m\u001b[39m\"\u001b[39;49m],\n\u001b[0;32m    830\u001b[0m     async_req\u001b[39m=\u001b[39;49mkwargs[\u001b[39m\"\u001b[39;49m\u001b[39masync_req\u001b[39;49m\u001b[39m\"\u001b[39;49m],\n\u001b[0;32m    831\u001b[0m     _check_type\u001b[39m=\u001b[39;49mkwargs[\u001b[39m\"\u001b[39;49m\u001b[39m_check_return_type\u001b[39;49m\u001b[39m\"\u001b[39;49m],\n\u001b[0;32m    832\u001b[0m     _return_http_data_only\u001b[39m=\u001b[39;49mkwargs[\u001b[39m\"\u001b[39;49m\u001b[39m_return_http_data_only\u001b[39;49m\u001b[39m\"\u001b[39;49m],\n\u001b[0;32m    833\u001b[0m     _preload_content\u001b[39m=\u001b[39;49mkwargs[\u001b[39m\"\u001b[39;49m\u001b[39m_preload_content\u001b[39;49m\u001b[39m\"\u001b[39;49m],\n\u001b[0;32m    834\u001b[0m     _request_timeout\u001b[39m=\u001b[39;49mkwargs[\u001b[39m\"\u001b[39;49m\u001b[39m_request_timeout\u001b[39;49m\u001b[39m\"\u001b[39;49m],\n\u001b[0;32m    835\u001b[0m     _host\u001b[39m=\u001b[39;49m_host,\n\u001b[0;32m    836\u001b[0m     collection_formats\u001b[39m=\u001b[39;49mparams[\u001b[39m\"\u001b[39;49m\u001b[39mcollection_format\u001b[39;49m\u001b[39m\"\u001b[39;49m],\n\u001b[0;32m    837\u001b[0m )\n",
      "File \u001b[1;32mc:\\Users\\omkat\\AppData\\Local\\Programs\\Python\\Python312\\Lib\\site-packages\\pinecone\\core\\openapi\\shared\\api_client.py:380\u001b[0m, in \u001b[0;36mApiClient.call_api\u001b[1;34m(self, resource_path, method, path_params, query_params, header_params, body, post_params, files, response_type, auth_settings, async_req, _return_http_data_only, collection_formats, _preload_content, _request_timeout, _host, _check_type)\u001b[0m\n\u001b[0;32m    326\u001b[0m \u001b[39m\u001b[39m\u001b[39m\"\"\"Makes the HTTP request (synchronous) and returns deserialized data.\u001b[39;00m\n\u001b[0;32m    327\u001b[0m \n\u001b[0;32m    328\u001b[0m \u001b[39mTo make an async_req request, set the async_req parameter.\u001b[39;00m\n\u001b[1;32m   (...)\u001b[0m\n\u001b[0;32m    377\u001b[0m \u001b[39m    then the method will return the response directly.\u001b[39;00m\n\u001b[0;32m    378\u001b[0m \u001b[39m\"\"\"\u001b[39;00m\n\u001b[0;32m    379\u001b[0m \u001b[39mif\u001b[39;00m \u001b[39mnot\u001b[39;00m async_req:\n\u001b[1;32m--> 380\u001b[0m     \u001b[39mreturn\u001b[39;00m \u001b[39mself\u001b[39;49m\u001b[39m.\u001b[39;49m__call_api(\n\u001b[0;32m    381\u001b[0m         resource_path,\n\u001b[0;32m    382\u001b[0m         method,\n\u001b[0;32m    383\u001b[0m         path_params,\n\u001b[0;32m    384\u001b[0m         query_params,\n\u001b[0;32m    385\u001b[0m         header_params,\n\u001b[0;32m    386\u001b[0m         body,\n\u001b[0;32m    387\u001b[0m         post_params,\n\u001b[0;32m    388\u001b[0m         files,\n\u001b[0;32m    389\u001b[0m         response_type,\n\u001b[0;32m    390\u001b[0m         auth_settings,\n\u001b[0;32m    391\u001b[0m         _return_http_data_only,\n\u001b[0;32m    392\u001b[0m         collection_formats,\n\u001b[0;32m    393\u001b[0m         _preload_content,\n\u001b[0;32m    394\u001b[0m         _request_timeout,\n\u001b[0;32m    395\u001b[0m         _host,\n\u001b[0;32m    396\u001b[0m         _check_type,\n\u001b[0;32m    397\u001b[0m     )\n\u001b[0;32m    399\u001b[0m \u001b[39mreturn\u001b[39;00m \u001b[39mself\u001b[39m\u001b[39m.\u001b[39mpool\u001b[39m.\u001b[39mapply_async(\n\u001b[0;32m    400\u001b[0m     \u001b[39mself\u001b[39m\u001b[39m.\u001b[39m__call_api,\n\u001b[0;32m    401\u001b[0m     (\n\u001b[1;32m   (...)\u001b[0m\n\u001b[0;32m    418\u001b[0m     ),\n\u001b[0;32m    419\u001b[0m )\n",
      "File \u001b[1;32mc:\\Users\\omkat\\AppData\\Local\\Programs\\Python\\Python312\\Lib\\site-packages\\pinecone\\core\\openapi\\shared\\api_client.py:187\u001b[0m, in \u001b[0;36mApiClient.__call_api\u001b[1;34m(self, resource_path, method, path_params, query_params, header_params, body, post_params, files, response_type, auth_settings, _return_http_data_only, collection_formats, _preload_content, _request_timeout, _host, _check_type)\u001b[0m\n\u001b[0;32m    185\u001b[0m \u001b[39mexcept\u001b[39;00m PineconeApiException \u001b[39mas\u001b[39;00m e:\n\u001b[0;32m    186\u001b[0m     e\u001b[39m.\u001b[39mbody \u001b[39m=\u001b[39m e\u001b[39m.\u001b[39mbody\u001b[39m.\u001b[39mdecode(\u001b[39m\"\u001b[39m\u001b[39mutf-8\u001b[39m\u001b[39m\"\u001b[39m)\n\u001b[1;32m--> 187\u001b[0m     \u001b[39mraise\u001b[39;00m e\n\u001b[0;32m    189\u001b[0m \u001b[39mself\u001b[39m\u001b[39m.\u001b[39mlast_response \u001b[39m=\u001b[39m response_data\n\u001b[0;32m    191\u001b[0m return_data \u001b[39m=\u001b[39m response_data\n",
      "File \u001b[1;32mc:\\Users\\omkat\\AppData\\Local\\Programs\\Python\\Python312\\Lib\\site-packages\\pinecone\\core\\openapi\\shared\\api_client.py:175\u001b[0m, in \u001b[0;36mApiClient.__call_api\u001b[1;34m(self, resource_path, method, path_params, query_params, header_params, body, post_params, files, response_type, auth_settings, _return_http_data_only, collection_formats, _preload_content, _request_timeout, _host, _check_type)\u001b[0m\n\u001b[0;32m    171\u001b[0m     url \u001b[39m=\u001b[39m _host \u001b[39m+\u001b[39m resource_path\n\u001b[0;32m    173\u001b[0m \u001b[39mtry\u001b[39;00m:\n\u001b[0;32m    174\u001b[0m     \u001b[39m# perform request and return response\u001b[39;00m\n\u001b[1;32m--> 175\u001b[0m     response_data \u001b[39m=\u001b[39m \u001b[39mself\u001b[39;49m\u001b[39m.\u001b[39;49mrequest(\n\u001b[0;32m    176\u001b[0m         method,\n\u001b[0;32m    177\u001b[0m         url,\n\u001b[0;32m    178\u001b[0m         query_params\u001b[39m=\u001b[39;49mquery_params,\n\u001b[0;32m    179\u001b[0m         headers\u001b[39m=\u001b[39;49mheader_params,\n\u001b[0;32m    180\u001b[0m         post_params\u001b[39m=\u001b[39;49mpost_params,\n\u001b[0;32m    181\u001b[0m         body\u001b[39m=\u001b[39;49mbody,\n\u001b[0;32m    182\u001b[0m         _preload_content\u001b[39m=\u001b[39;49m_preload_content,\n\u001b[0;32m    183\u001b[0m         _request_timeout\u001b[39m=\u001b[39;49m_request_timeout,\n\u001b[0;32m    184\u001b[0m     )\n\u001b[0;32m    185\u001b[0m \u001b[39mexcept\u001b[39;00m PineconeApiException \u001b[39mas\u001b[39;00m e:\n\u001b[0;32m    186\u001b[0m     e\u001b[39m.\u001b[39mbody \u001b[39m=\u001b[39m e\u001b[39m.\u001b[39mbody\u001b[39m.\u001b[39mdecode(\u001b[39m\"\u001b[39m\u001b[39mutf-8\u001b[39m\u001b[39m\"\u001b[39m)\n",
      "File \u001b[1;32mc:\\Users\\omkat\\AppData\\Local\\Programs\\Python\\Python312\\Lib\\site-packages\\pinecone\\core\\openapi\\shared\\api_client.py:460\u001b[0m, in \u001b[0;36mApiClient.request\u001b[1;34m(self, method, url, query_params, headers, post_params, body, _preload_content, _request_timeout)\u001b[0m\n\u001b[0;32m    450\u001b[0m     \u001b[39mreturn\u001b[39;00m \u001b[39mself\u001b[39m\u001b[39m.\u001b[39mrest_client\u001b[39m.\u001b[39mOPTIONS(\n\u001b[0;32m    451\u001b[0m         url,\n\u001b[0;32m    452\u001b[0m         query_params\u001b[39m=\u001b[39mquery_params,\n\u001b[1;32m   (...)\u001b[0m\n\u001b[0;32m    457\u001b[0m         body\u001b[39m=\u001b[39mbody,\n\u001b[0;32m    458\u001b[0m     )\n\u001b[0;32m    459\u001b[0m \u001b[39melif\u001b[39;00m method \u001b[39m==\u001b[39m \u001b[39m\"\u001b[39m\u001b[39mPOST\u001b[39m\u001b[39m\"\u001b[39m:\n\u001b[1;32m--> 460\u001b[0m     \u001b[39mreturn\u001b[39;00m \u001b[39mself\u001b[39;49m\u001b[39m.\u001b[39;49mrest_client\u001b[39m.\u001b[39;49mPOST(\n\u001b[0;32m    461\u001b[0m         url,\n\u001b[0;32m    462\u001b[0m         query_params\u001b[39m=\u001b[39;49mquery_params,\n\u001b[0;32m    463\u001b[0m         headers\u001b[39m=\u001b[39;49mheaders,\n\u001b[0;32m    464\u001b[0m         post_params\u001b[39m=\u001b[39;49mpost_params,\n\u001b[0;32m    465\u001b[0m         _preload_content\u001b[39m=\u001b[39;49m_preload_content,\n\u001b[0;32m    466\u001b[0m         _request_timeout\u001b[39m=\u001b[39;49m_request_timeout,\n\u001b[0;32m    467\u001b[0m         body\u001b[39m=\u001b[39;49mbody,\n\u001b[0;32m    468\u001b[0m     )\n\u001b[0;32m    469\u001b[0m \u001b[39melif\u001b[39;00m method \u001b[39m==\u001b[39m \u001b[39m\"\u001b[39m\u001b[39mPUT\u001b[39m\u001b[39m\"\u001b[39m:\n\u001b[0;32m    470\u001b[0m     \u001b[39mreturn\u001b[39;00m \u001b[39mself\u001b[39m\u001b[39m.\u001b[39mrest_client\u001b[39m.\u001b[39mPUT(\n\u001b[0;32m    471\u001b[0m         url,\n\u001b[0;32m    472\u001b[0m         query_params\u001b[39m=\u001b[39mquery_params,\n\u001b[1;32m   (...)\u001b[0m\n\u001b[0;32m    477\u001b[0m         body\u001b[39m=\u001b[39mbody,\n\u001b[0;32m    478\u001b[0m     )\n",
      "File \u001b[1;32mc:\\Users\\omkat\\AppData\\Local\\Programs\\Python\\Python312\\Lib\\site-packages\\pinecone\\core\\openapi\\shared\\rest.py:345\u001b[0m, in \u001b[0;36mRESTClientObject.POST\u001b[1;34m(self, url, headers, query_params, post_params, body, _preload_content, _request_timeout)\u001b[0m\n\u001b[0;32m    335\u001b[0m \u001b[39mdef\u001b[39;00m \u001b[39mPOST\u001b[39m(\n\u001b[0;32m    336\u001b[0m     \u001b[39mself\u001b[39m,\n\u001b[0;32m    337\u001b[0m     url,\n\u001b[1;32m   (...)\u001b[0m\n\u001b[0;32m    343\u001b[0m     _request_timeout\u001b[39m=\u001b[39m\u001b[39mNone\u001b[39;00m,\n\u001b[0;32m    344\u001b[0m ):\n\u001b[1;32m--> 345\u001b[0m     \u001b[39mreturn\u001b[39;00m \u001b[39mself\u001b[39;49m\u001b[39m.\u001b[39;49mrequest(\n\u001b[0;32m    346\u001b[0m         \u001b[39m\"\u001b[39;49m\u001b[39mPOST\u001b[39;49m\u001b[39m\"\u001b[39;49m,\n\u001b[0;32m    347\u001b[0m         url,\n\u001b[0;32m    348\u001b[0m         headers\u001b[39m=\u001b[39;49mheaders,\n\u001b[0;32m    349\u001b[0m         query_params\u001b[39m=\u001b[39;49mquery_params,\n\u001b[0;32m    350\u001b[0m         post_params\u001b[39m=\u001b[39;49mpost_params,\n\u001b[0;32m    351\u001b[0m         _preload_content\u001b[39m=\u001b[39;49m_preload_content,\n\u001b[0;32m    352\u001b[0m         _request_timeout\u001b[39m=\u001b[39;49m_request_timeout,\n\u001b[0;32m    353\u001b[0m         body\u001b[39m=\u001b[39;49mbody,\n\u001b[0;32m    354\u001b[0m     )\n",
      "File \u001b[1;32mc:\\Users\\omkat\\AppData\\Local\\Programs\\Python\\Python312\\Lib\\site-packages\\pinecone\\core\\openapi\\shared\\rest.py:279\u001b[0m, in \u001b[0;36mRESTClientObject.request\u001b[1;34m(self, method, url, query_params, headers, body, post_params, _preload_content, _request_timeout)\u001b[0m\n\u001b[0;32m    276\u001b[0m     \u001b[39mif\u001b[39;00m \u001b[39m500\u001b[39m \u001b[39m<\u001b[39m\u001b[39m=\u001b[39m r\u001b[39m.\u001b[39mstatus \u001b[39m<\u001b[39m\u001b[39m=\u001b[39m \u001b[39m599\u001b[39m:\n\u001b[0;32m    277\u001b[0m         \u001b[39mraise\u001b[39;00m ServiceException(http_resp\u001b[39m=\u001b[39mr)\n\u001b[1;32m--> 279\u001b[0m     \u001b[39mraise\u001b[39;00m PineconeApiException(http_resp\u001b[39m=\u001b[39mr)\n\u001b[0;32m    281\u001b[0m \u001b[39mreturn\u001b[39;00m r\n",
      "\u001b[1;31mPineconeApiException\u001b[0m: (409)\nReason: Conflict\nHTTP response headers: HTTPHeaderDict({'content-type': 'text/plain; charset=utf-8', 'access-control-allow-origin': '*', 'vary': 'origin,access-control-request-method,access-control-request-headers', 'access-control-expose-headers': '*', 'x-pinecone-api-version': '2024-07', 'X-Cloud-Trace-Context': '467b090c1ed6b8e3416ce9c4b4e4d6dc', 'Date': 'Wed, 25 Dec 2024 12:55:39 GMT', 'Server': 'Google Frontend', 'Content-Length': '85', 'Via': '1.1 google', 'Alt-Svc': 'h3=\":443\"; ma=2592000,h3-29=\":443\"; ma=2592000'})\nHTTP response body: {\"error\":{\"code\":\"ALREADY_EXISTS\",\"message\":\"Resource  already exists\"},\"status\":409}\n"
     ]
    }
   ],
   "source": [
    "pc.create_index(\n",
    "    name=index_name,\n",
    "    dimension=dimension,\n",
    "    metric=metric,\n",
    "    spec=ServerlessSpec(\n",
    "        cloud=\"aws\",\n",
    "        region=\"us-east-1\"\n",
    "    )\n",
    ")"
   ]
  },
  {
   "cell_type": "code",
   "execution_count": 15,
   "metadata": {},
   "outputs": [],
   "source": [
    "index=pc.Index(index_name)"
   ]
  },
  {
   "cell_type": "code",
   "execution_count": 16,
   "metadata": {},
   "outputs": [],
   "source": [
    "vectors_to_upsert=[(row[\"unique_id\"],row[\"embedding\"].tolist(),row[\"metadata\"]) for index,row in files.iterrows()]"
   ]
  },
  {
   "cell_type": "code",
   "execution_count": 17,
   "metadata": {},
   "outputs": [
    {
     "name": "stdout",
     "output_type": "stream",
     "text": [
      "Data successfully upserted to Pinecone index\n"
     ]
    }
   ],
   "source": [
    "index.upsert(vectors=vectors_to_upsert)\n",
    "print(\"Data successfully upserted to Pinecone index\")"
   ]
  },
  {
   "cell_type": "code",
   "execution_count": 18,
   "metadata": {},
   "outputs": [],
   "source": [
    "query=\"regression\"\n",
    "query_embedding=model.encode(query,show_progress_bar=False).tolist()"
   ]
  },
  {
   "cell_type": "code",
   "execution_count": 19,
   "metadata": {},
   "outputs": [],
   "source": [
    "query_results=index.query(\n",
    "    vector=[query_embedding],\n",
    "    top_k=12,\n",
    "    include_metadata=True\n",
    ")\n",
    "\n",
    "\n",
    "\n",
    "# index.query:\n",
    "# This method is called on an object named index, which represents the vector database you are querying. It is designed to retrieve data based on vector similarity.\n",
    "# vector=[query_embedding]:\n",
    "# This parameter specifies the input vector for the query. The query_embedding is typically a high-dimensional representation (e.g., generated by an NLP model) that captures the semantic meaning of the query. The square brackets indicate that it is being passed as a list, which may be required by the method.\n",
    "# top_k=12:\n",
    "# This parameter limits the number of results returned by the query to 12. It indicates that you want to retrieve the top 12 vectors that are most similar to the provided query_embedding.\n",
    "# include_metadata=True:\n",
    "# This flag specifies whether to include additional metadata in the results. When set to True, the query will return not just the similar vectors but also associated metadata, which can be useful for understanding or processing the results further.\n"
   ]
  },
  {
   "cell_type": "code",
   "execution_count": 20,
   "metadata": {},
   "outputs": [],
   "source": [
    "score_threshold=0.3"
   ]
  },
  {
   "cell_type": "code",
   "execution_count": 21,
   "metadata": {},
   "outputs": [
    {
     "name": "stdout",
     "output_type": "stream",
     "text": [
      "Matched item ID:37-369,Score:0.503073692\n",
      "Course:Machine Learning in Python \n",
      " Section :Linear Regression with sklearn \n",
      " Description:While there are many libraries that can compute a regression model, the most numerically stable one is sklearn. It is also the preferred choice of many machine learning professionals. In this section, we implement all we know about regressions in this amazing library.\n",
      "Matched item ID:51-466,Score:0.466616154\n",
      "Course:Machine Learning in Excel \n",
      " Section :Multiple Linear Regression \n",
      " Description:In section 3 you will discover multiple linear regression. We will expand on the simple linear regression techniques we covered in the previous section and discuss some practical considerations such as working with dummy variables and how to make predictions with more than one independent variable using Excel. \n",
      "Matched item ID:51-465,Score:0.463664711\n",
      "Course:Machine Learning in Excel \n",
      " Section :Simple Linear Regression \n",
      " Description:Join us to create your first simple regression in Excel and get familiar with a very important statistical concept – the Ordinary least squares framework. You will learn about OLS assumptions, how to interpret regression results, as well as how to decompose variability. \n",
      "Matched item ID:51-467,Score:0.449859262\n",
      "Course:Machine Learning in Excel \n",
      " Section :Linear Regression Practical Example \n",
      " Description:An all-in-one use case that tests your understanding of each of the concepts you mastered so far. We will focus on a property price dataset and create a linear regression model to predict house prices. \n",
      "Matched item ID:4-34,Score:0.432681888\n",
      "Course:Introduction to R Programming \n",
      " Section :Linear Regression Analysis in R \n",
      " Description:Regression analysis is another topic we covered earlier in our program. As with hypothesis testing, this is a great opportunity to apply the theory you have learned previously in R.\n",
      "Matched item ID:31-307,Score:0.420895\n",
      "Course:Deep Learning with TensorFlow \n",
      " Section :Minimal example \n",
      " Description:It is time to build your first machine learning algorithm. We will show you how to import the relevant libraries, how to generate random input data for the model to train on, how to create the targets the model will aim at, and how to plot the training data. The mechanics of this model exemplify how all regressions you’ve run in different packages (scikit-learn) or software (Excel) work. This is an iterative method aiming to find the best-fitting line.\n",
      "Matched item ID:33-341,Score:0.394936442\n",
      "Course:Customer Analytics in Python \n",
      " Section :Modeling Purchase Quantity \n",
      " Description:We conclude the purchase analytics part of the course with a model for purchase quantity. Here, we’ll use linear regression to determine how many units of our product the customer likes to buy. We’ll examine the effects of promotion on purchase quantity and determine price elasticity of demand.\n",
      "Matched item ID:51-472,Score:0.364940315\n",
      "Course:Machine Learning in Excel \n",
      " Section :Machine Learning in the Cloud \n",
      " Description:In the final section of the course, we will combine Azure and Microsoft Excel to run ML experiments in the cloud. In our case, we’ll create a predictive analytics model in Azure Machine Learning Studio.\n",
      "Matched item ID:36-363,Score:0.361022115\n",
      "Course:Python for Finance \n",
      " Section :Using Regressions for Financial Analysis \n",
      " Description:Understanding rates of return and risk is not all there is about finance. Working with regression analysis is a must, and you will see that Python only helps you to be quicker and more precise when doing such estimations.\n",
      "Matched item ID:36-366,Score:0.36089474\n",
      "Course:Python for Finance \n",
      " Section :Multivariate Regression Analysis \n",
      " Description:While in Section 4 we deal with simple regression analysis, here we will take this technique to the next level. As you can guess, multivariate regression analysis is more advanced, but is also more interesting, as it allows you to deal with more complex financial problems.\n",
      "Matched item ID:37-370,Score:0.35433051\n",
      "Course:Machine Learning in Python \n",
      " Section :Linear Regression Practical Example \n",
      " Description:An all in one practical example, which will test your understanding of each of the concepts that we have discussed so far. We will focus on a used cars dataset and create a linear regression model to predict the prices of cars. At the end you will have a big assignment where you can dive deep into the optimization of a machine learning model.\n",
      "Matched item ID:32-321,Score:0.350873023\n",
      "Course:Deep Learning with TensorFlow 2 \n",
      " Section :Minimal example \n",
      " Description:It is time to build your first machine learning algorithm. We will show you how to import the relevant libraries, how to generate random input data for the model to train on, how to create the targets the model will aim at, and how to plot the training data. The mechanics of this model exemplify how all regressions you’ve run in different packages (scikit-learn) or software (Excel) work. This is an iterative method aiming to find the best-fitting line.\n"
     ]
    }
   ],
   "source": [
    "for match in query_results['matches']:\n",
    "    if match['score']>=score_threshold:\n",
    "        course_details=match.get('metadata',{})\n",
    "        course_name=course_details.get('course_name','N/A')\n",
    "        section_name=course_details.get('section_name','N/A')\n",
    "        section_description=course_details.get('section_description','No description available')\n",
    "\n",
    "        print(f\"Matched item ID:{match['id']},Score:{match['score']}\")\n",
    "        print(f\"Course:{course_name} \\n Section :{section_name} \\n Description:{section_description}\")"
   ]
  },
  {
   "cell_type": "code",
   "execution_count": null,
   "metadata": {},
   "outputs": [],
   "source": []
  }
 ],
 "metadata": {
  "kernelspec": {
   "display_name": "Python 3",
   "language": "python",
   "name": "python3"
  },
  "language_info": {
   "codemirror_mode": {
    "name": "ipython",
    "version": 3
   },
   "file_extension": ".py",
   "mimetype": "text/x-python",
   "name": "python",
   "nbconvert_exporter": "python",
   "pygments_lexer": "ipython3",
   "version": "3.12.0"
  },
  "orig_nbformat": 4
 },
 "nbformat": 4,
 "nbformat_minor": 2
}
